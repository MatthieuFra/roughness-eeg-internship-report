{
 "cells": [
  {
   "cell_type": "markdown",
   "id": "d3cdc63b",
   "metadata": {},
   "source": [
    "# RoughXP Analysis - XDF reader\n",
    "\n",
    "### Author : Matthieu Fraticelli, Emma Ducos - 2023\n",
    "\n",
    "This code is designed to analyze the data of the RoughXP experiment using EEG signals recorded from BrainProducts R-Net and MyBrainTech Q+\n"
   ]
  },
  {
   "cell_type": "markdown",
   "id": "bcacdece",
   "metadata": {},
   "source": [
    "----"
   ]
  },
  {
   "cell_type": "markdown",
   "id": "d9db3a61",
   "metadata": {},
   "source": [
    "*The present code is designed to convert files recorded in XDF with LSL LabRecorder to FIF files usable in MNE.*"
   ]
  },
  {
   "cell_type": "markdown",
   "id": "d022c728",
   "metadata": {},
   "source": [
    "---"
   ]
  },
  {
   "cell_type": "markdown",
   "id": "db414ac9",
   "metadata": {},
   "source": [
    "### Import required librairies"
   ]
  },
  {
   "cell_type": "code",
   "execution_count": 4,
   "id": "9a2f242c",
   "metadata": {},
   "outputs": [],
   "source": [
    "#To import MNE\n",
    "import mne\n",
    "\n",
    "#Other librairies needed\n",
    "import pyxdf\n",
    "import os\n",
    "import matplotlib.pyplot as plt\n",
    "import numpy as np\n",
    "from mne_bids import BIDSPath, write_raw_bids"
   ]
  },
  {
   "cell_type": "code",
   "execution_count": 33,
   "id": "cf34909b",
   "metadata": {},
   "outputs": [
    {
     "name": "stdout",
     "output_type": "stream",
     "text": [
      "Platform             Windows-10-10.0.19045-SP0\n",
      "Python               3.10.11 | packaged by Anaconda, Inc. | (main, Apr 20 2023, 18:56:50) [MSC v.1916 64 bit (AMD64)]\n",
      "Executable           C:\\Users\\mfratice\\AppData\\Local\\anaconda3\\envs\\IDA\\python.exe\n",
      "CPU                  Intel64 Family 6 Model 154 Stepping 3, GenuineIntel (20 cores)\n",
      "Memory               31.7 GB\n",
      "\n",
      "Core\n",
      "├☑ mne               1.4.0\n",
      "├☑ numpy             1.23.5 (MKL 2021.4-Product with 14 threads)\n",
      "├☑ scipy             1.10.1\n",
      "├☑ matplotlib        3.5.3 (backend=module://matplotlib_inline.backend_inline)\n",
      "├☑ pooch             1.7.0\n",
      "└☑ jinja2            3.1.2\n",
      "\n",
      "Numerical (optional)\n",
      "├☑ sklearn           1.2.2\n",
      "├☑ numba             0.56.4\n",
      "├☑ nibabel           5.1.0\n",
      "├☑ nilearn           0.10.0\n",
      "├☑ dipy              1.6.0\n",
      "├☑ pandas            2.0.0\n",
      "└☐ unavailable       openmeeg, cupy\n",
      "\n",
      "Visualization (optional)\n",
      "├☑ pyvista           0.38.5 (OpenGL 4.5.0 - Build 31.0.101.3959 via Intel(R) Iris(R) Xe Graphics)\n",
      "├☑ pyvistaqt         0.0.0\n",
      "├☑ ipyvtklink        0.2.3\n",
      "├☑ vtk               9.0.3\n",
      "├☑ qtpy              2.3.1 (PyQt5=5.15.2)\n",
      "├☑ pyqtgraph         0.13.3\n",
      "├☑ mne-qt-browser    0.0.0\n",
      "└☐ unavailable       ipympl\n",
      "\n",
      "Ecosystem (optional)\n",
      "├☑ mne-bids          0.12\n",
      "└☐ unavailable       mne-nirs, mne-features, mne-connectivity, mne-icalabel, mne-bids-pipeline\n"
     ]
    }
   ],
   "source": [
    "#To check the system of MNE\n",
    "mne.sys_info()"
   ]
  },
  {
   "cell_type": "markdown",
   "id": "d3d48257",
   "metadata": {},
   "source": [
    "---\n"
   ]
  },
  {
   "cell_type": "code",
   "execution_count": 81,
   "id": "78b944fe",
   "metadata": {},
   "outputs": [],
   "source": [
    "sub = 'HYQSWK'\n",
    "ses = '20230509'\n",
    "task = 'Default'\n",
    "acq = 'RNET'\n",
    "run = '001'"
   ]
  },
  {
   "cell_type": "code",
   "execution_count": 82,
   "id": "c2752dba",
   "metadata": {},
   "outputs": [],
   "source": [
    "project_path = '/mnt/c/Users/mfratice/OneDrive - Institut Pasteur Paris/roughxpmbt/'"
   ]
  },
  {
   "cell_type": "code",
   "execution_count": 83,
   "id": "3160dd78",
   "metadata": {},
   "outputs": [],
   "source": [
    "#results_path = os.path.join(project_path, '04_roughxpmbt_results')\n",
    "#root_bids = os.path.join(project_path, '01_roughxpmbt_data/02_roughxpmbt_bids')\n",
    "#file_path = os.path.join(project_path, '01_roughxpmbt_data/05_roughxpmbt_labrecorder/for_matthieu/sub-{sub}/ses-{ses}/eeg/sub-{sub}_ses-{ses}_task-{task}_acq-{acq}_run-{run}_eeg.xdf'.format(sub=sub, ses=ses, task=task, acq=acq, run=run))\n",
    "\n",
    "results_path = 'C:/Users/mfratice/Documents/DATA/RESULTS'\n",
    "root_bids = 'C:/Users/mfratice/Documents/DATA/BIDS'\n",
    "file_path = 'C:/Users/mfratice/Documents/DATA/RAW/sub-CW20230509/ses-20230509/eeg/sub-CW20230509_ses-20230509_task-Default_run-001_eeg.xdf'"
   ]
  },
  {
   "cell_type": "code",
   "execution_count": 84,
   "id": "27b4585c",
   "metadata": {},
   "outputs": [
    {
     "name": "stdout",
     "output_type": "stream",
     "text": [
      "Creating RawArray with float64 data, n_channels=36, n_times=1008499\n",
      "    Range : 0 ... 1008498 =      0.000 ...  1008.498 secs\n",
      "Ready.\n",
      "Creating RawArray with float64 data, n_channels=4, n_times=252455\n",
      "    Range : 0 ... 252454 =      0.000 ...  1009.816 secs\n",
      "Ready.\n",
      "Writing C:\\Users\\mfratice\\Documents\\DATA\\RESULTS\\sub-HYQSWK_ses-20230509_task-Default_acq-acticap_run-001_eeg.fif\n",
      "Closing C:\\Users\\mfratice\\Documents\\DATA\\RESULTS\\sub-HYQSWK_ses-20230509_task-Default_acq-acticap_run-001_eeg.fif\n",
      "[done]\n",
      "Writing C:\\Users\\mfratice\\Documents\\DATA\\RESULTS\\sub-HYQSWK_ses-20230509_task-Default_acq-qplus_run-001_eeg.fif\n",
      "Closing C:\\Users\\mfratice\\Documents\\DATA\\RESULTS\\sub-HYQSWK_ses-20230509_task-Default_acq-qplus_run-001_eeg.fif\n",
      "[done]\n"
     ]
    }
   ],
   "source": [
    "data, header = pyxdf.load_xdf(file_path)\n",
    "\n",
    "for i, stream in enumerate(data):\n",
    "    \n",
    "    if stream['info']['name'][0] == 'Q+': # if the stream comes from mybraintech Q+ system\n",
    "        qplus_stream = stream\n",
    "    elif stream['info']['name'][0] == 'actiCHampMarkers-20110423': # if the stream comes from brainproducts actichamp system of IDA \n",
    "        actichampmarkers_stream = stream\n",
    "    elif stream['info']['name'][0] == 'actiCHamp-20110423': # if the stream comes from brainproducts actichamp system of IDA \n",
    "        actichamp_stream = stream\n",
    "    else:\n",
    "        print(\"stream source unrecognized\")\n",
    "\n",
    "# actichamp data in a mne raw data format\n",
    "actichamp_data = actichamp_stream[\"time_series\"].T\n",
    "actichamp_sfreq = float(actichamp_stream[\"info\"][\"nominal_srate\"][0])\n",
    "# actichamp_info_channels = actichamp_stream[\"info\"][\"desc\"][0][\"channels\"][0][\"channel\"]\n",
    "actichamp_channel_names = [channel[\"label\"][0] for channel in actichamp_stream[\"info\"][\"desc\"][0][\"channels\"][0][\"channel\"]]\n",
    "actichamp_channel_types = [channel[\"type\"][0] for channel in actichamp_stream[\"info\"][\"desc\"][0][\"channels\"][0][\"channel\"]]\n",
    "actichamp_channel_units = [channel[\"unit\"][0] for channel in actichamp_stream[\"info\"][\"desc\"][0][\"channels\"][0][\"channel\"]]\n",
    "actichamp_info = mne.create_info(ch_names=actichamp_channel_names, sfreq=actichamp_sfreq)#, ch_types=actichamp_channel_types, verbose=True)\n",
    "actichamp_raw = mne.io.RawArray(actichamp_data, actichamp_info)\n",
    "\n",
    "#actichamp_raw.plot(block=True)\n",
    "\n",
    "# qplus data in a mne raw data format\n",
    "qplus_data = qplus_stream[\"time_series\"].T\n",
    "qplus_sfreq = float(qplus_stream[\"info\"][\"nominal_srate\"][0])\n",
    "# qplus_info_channels = qplus_stream[\"info\"][\"desc\"][0][\"channels\"][0][\"channel\"]\n",
    "qplus_channel_names = [channel[\"label\"][0] for channel in qplus_stream[\"info\"][\"desc\"][0][\"channels\"][0][\"channel\"]]\n",
    "qplus_channel_types = [channel[\"type\"][0] for channel in qplus_stream[\"info\"][\"desc\"][0][\"channels\"][0][\"channel\"]]\n",
    "qplus_channel_units = [channel[\"unit\"][0] for channel in qplus_stream[\"info\"][\"desc\"][0][\"channels\"][0][\"channel\"]]\n",
    "qplus_info = mne.create_info(ch_names=qplus_channel_names, sfreq=qplus_sfreq)#, ch_types=actichamp_channel_types, verbose=True)\n",
    "qplus_raw = mne.io.RawArray(qplus_data, qplus_info)\n",
    "\n",
    "#qplus_raw.plot(block=True)\n",
    "\n",
    "\n",
    "acq = 'rnet'\n",
    "filename = f\"sub-{sub}_ses-{ses}_task-{task}_acq-{acq}_run-{run}_eeg.fif\"\n",
    "# save as .fif \n",
    "fname = os.path.join(results_path, filename)\n",
    "actichamp_raw.save(fname=fname, overwrite=True)\n",
    "\n",
    "acq = 'qplus'\n",
    "filename = f\"sub-{sub}_ses-{ses}_task-{task}_acq-{acq}_run-{run}_eeg.fif\"\n",
    "# save as .fif \n",
    "fname = os.path.join(results_path, filename)\n",
    "actichamp_raw.save(fname=fname, overwrite=True)\n",
    "\n",
    "\n",
    "\n",
    "# bids_path = BIDSPath(subject=sub,\n",
    "#              task=task,\n",
    "#              root=root_bids)\n",
    "    \n",
    "# write_raw_bids(actichamp_raw, bids_path, allow_preload=True, format='FIF')\n",
    "\n",
    "# write_raw_bids(qplus_raw, bids_path, allow_preload=True, format='FIF')#, overwrite=True)\n"
   ]
  },
  {
   "cell_type": "markdown",
   "id": "88cefb06",
   "metadata": {},
   "source": []
  }
 ],
 "metadata": {
  "kernelspec": {
   "display_name": "Python 3 (ipykernel)",
   "language": "python",
   "name": "python3"
  },
  "language_info": {
   "codemirror_mode": {
    "name": "ipython",
    "version": 3
   },
   "file_extension": ".py",
   "mimetype": "text/x-python",
   "name": "python",
   "nbconvert_exporter": "python",
   "pygments_lexer": "ipython3",
   "version": "3.10.11"
  }
 },
 "nbformat": 4,
 "nbformat_minor": 5
}
