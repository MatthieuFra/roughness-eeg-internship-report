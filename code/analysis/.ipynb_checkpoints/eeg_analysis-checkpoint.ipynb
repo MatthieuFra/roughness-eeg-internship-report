{
 "cells": [
  {
   "cell_type": "markdown",
   "id": "d3cdc63b",
   "metadata": {},
   "source": [
    "# RoughXP Analysis\n",
    "\n",
    "### Author : Matthieu Fraticelli, Emma Ducos - 2023\n",
    "\n",
    "This code is designed to analyze the data of the RoughXP experiment using EEG signals recorded from BrainProducts R-Net and MyBrainTech Q+\n"
   ]
  },
  {
   "cell_type": "markdown",
   "id": "bcacdece",
   "metadata": {},
   "source": [
    "----"
   ]
  },
  {
   "cell_type": "markdown",
   "id": "db414ac9",
   "metadata": {},
   "source": [
    "### Import required librairies"
   ]
  },
  {
   "cell_type": "code",
   "execution_count": 1,
   "id": "9a2f242c",
   "metadata": {},
   "outputs": [],
   "source": [
    "import mne"
   ]
  },
  {
   "cell_type": "markdown",
   "id": "d3d48257",
   "metadata": {},
   "source": [
    "---\n"
   ]
  },
  {
   "cell_type": "code",
   "execution_count": null,
   "id": "a6eeb519",
   "metadata": {},
   "outputs": [],
   "source": []
  },
  {
   "cell_type": "code",
   "execution_count": null,
   "id": "7c1a167d",
   "metadata": {},
   "outputs": [],
   "source": []
  },
  {
   "cell_type": "code",
   "execution_count": null,
   "id": "6deb48eb",
   "metadata": {},
   "outputs": [],
   "source": []
  }
 ],
 "metadata": {
  "kernelspec": {
   "display_name": "Python 3 (ipykernel)",
   "language": "python",
   "name": "python3"
  },
  "language_info": {
   "codemirror_mode": {
    "name": "ipython",
    "version": 3
   },
   "file_extension": ".py",
   "mimetype": "text/x-python",
   "name": "python",
   "nbconvert_exporter": "python",
   "pygments_lexer": "ipython3",
   "version": "3.10.11"
  }
 },
 "nbformat": 4,
 "nbformat_minor": 5
}
