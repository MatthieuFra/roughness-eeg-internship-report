{
 "cells": [
  {
   "cell_type": "markdown",
   "id": "d3cdc63b",
   "metadata": {},
   "source": [
    "# RoughXP Analysis\n",
    "\n",
    "### Author : Matthieu Fraticelli, Emma Ducos - 2023\n",
    "\n",
    "This code is designed to analyze the data of the RoughXP experiment using EEG signals recorded from BrainProducts R-Net and MyBrainTech Q+\n"
   ]
  },
  {
   "cell_type": "markdown",
   "id": "bcacdece",
   "metadata": {},
   "source": [
    "----"
   ]
  },
  {
   "cell_type": "markdown",
   "id": "dc882de1",
   "metadata": {},
   "source": [
    "*The present code is designed to convert files recorded in XDF with LSL LabRecorder to FIF files usable in MNE.*"
   ]
  },
  {
   "cell_type": "markdown",
   "id": "5b4ad410",
   "metadata": {},
   "source": [
    "---"
   ]
  },
  {
   "cell_type": "markdown",
   "id": "db414ac9",
   "metadata": {},
   "source": [
    "### Import required librairies"
   ]
  },
  {
   "cell_type": "code",
   "execution_count": 1,
   "id": "9a2f242c",
   "metadata": {},
   "outputs": [],
   "source": [
    "#To import MNE\n",
    "import mne\n",
    "\n",
    "#Other librairies needed\n",
    "import pyxdf\n",
    "import os\n",
    "import matplotlib.pyplot as plt\n",
    "import numpy as np\n",
    "from mne_bids import BIDSPath, write_raw_bids"
   ]
  },
  {
   "cell_type": "code",
   "execution_count": 2,
   "id": "3bbdd3ba",
   "metadata": {},
   "outputs": [
    {
     "name": "stdout",
     "output_type": "stream",
     "text": [
      "Platform             Windows-10-10.0.19045-SP0\n",
      "Python               3.10.11 | packaged by Anaconda, Inc. | (main, Apr 20 2023, 18:56:50) [MSC v.1916 64 bit (AMD64)]\n",
      "Executable           C:\\Users\\mfratice\\AppData\\Local\\anaconda3\\envs\\IDA\\python.exe\n",
      "CPU                  Intel64 Family 6 Model 154 Stepping 3, GenuineIntel (20 cores)\n",
      "Memory               31.7 GB\n",
      "\n",
      "Core\n",
      "├☑ mne               1.4.0\n",
      "├☑ numpy             1.23.5 (MKL 2021.4-Product with 14 threads)\n",
      "├☑ scipy             1.10.1\n",
      "├☑ matplotlib        3.5.3 (backend=module://matplotlib_inline.backend_inline)\n",
      "├☑ pooch             1.7.0\n",
      "└☑ jinja2            3.1.2\n",
      "\n",
      "Numerical (optional)\n",
      "├☑ sklearn           1.2.2\n",
      "├☑ numba             0.56.4\n",
      "├☑ nibabel           5.1.0\n",
      "├☑ nilearn           0.10.0\n",
      "├☑ dipy              1.6.0\n",
      "├☑ pandas            2.0.0\n",
      "└☐ unavailable       openmeeg, cupy\n",
      "\n",
      "Visualization (optional)\n",
      "├☑ pyvista           0.38.5 (OpenGL 4.5.0 - Build 31.0.101.3959 via Intel(R) Iris(R) Xe Graphics)\n",
      "├☑ pyvistaqt         0.0.0\n",
      "├☑ ipyvtklink        0.2.3\n",
      "├☑ vtk               9.0.3\n",
      "├☑ qtpy              2.3.1 (PyQt5=5.15.2)\n",
      "├☑ pyqtgraph         0.13.3\n",
      "├☑ mne-qt-browser    0.0.0\n",
      "└☐ unavailable       ipympl\n",
      "\n",
      "Ecosystem (optional)\n",
      "├☑ mne-bids          0.12\n",
      "└☐ unavailable       mne-nirs, mne-features, mne-connectivity, mne-icalabel, mne-bids-pipeline\n"
     ]
    }
   ],
   "source": [
    "#To check the system of MNE\n",
    "mne.sys_info()"
   ]
  },
  {
   "cell_type": "markdown",
   "id": "d3d48257",
   "metadata": {},
   "source": [
    "---\n"
   ]
  },
  {
   "cell_type": "code",
   "execution_count": 25,
   "id": "f23219f2",
   "metadata": {},
   "outputs": [],
   "source": [
    "sub = 'DURJIL'\n",
    "ses = '20230517'\n",
    "task = 'Default'\n",
    "acq = 'RNET'\n",
    "run = '001'"
   ]
  },
  {
   "cell_type": "code",
   "execution_count": 26,
   "id": "e9a792c4",
   "metadata": {},
   "outputs": [],
   "source": [
    "project_path = '/mnt/c/Users/mfratice/OneDrive - Institut Pasteur Paris/roughxpmbt/'"
   ]
  },
  {
   "cell_type": "code",
   "execution_count": 27,
   "id": "a93895e5",
   "metadata": {},
   "outputs": [],
   "source": [
    "results_path = os.path.join(project_path, '04_roughxpmbt_results')\n",
    "root_bids = os.path.join(project_path, '01_roughxpmbt_data/02_roughxpmbt_bids')\n",
    "file_path = os.path.join(project_path, '01_roughxpmbt_data/05_roughxpmbt_labrecorder/for_matthieu/sub-{sub}/ses-{ses}/eeg/sub-{sub}_ses-{ses}_task-{task}_acq-{acq}_run-{run}_eeg.xdf'.format(sub=sub, ses=ses, task=task, acq=acq, run=run))"
   ]
  },
  {
   "cell_type": "code",
   "execution_count": 28,
   "id": "325d27b3",
   "metadata": {},
   "outputs": [
    {
     "ename": "Exception",
     "evalue": "file c\\Users\\mfratice\\OneDrive - Institut Pasteur Paris\\roughxpmbt\\01_roughxpmbt_data\\05_roughxpmbt_labrecorder\\for_matthieu\\sub-DURJIL\\ses-20230517\\eeg\\sub-DURJIL_ses-20230517_task-Default_acq-RNET_run-001_eeg.xdf does not exist.",
     "output_type": "error",
     "traceback": [
      "\u001b[1;31m---------------------------------------------------------------------------\u001b[0m",
      "\u001b[1;31mException\u001b[0m                                 Traceback (most recent call last)",
      "Cell \u001b[1;32mIn[28], line 1\u001b[0m\n\u001b[1;32m----> 1\u001b[0m data, header \u001b[38;5;241m=\u001b[39m \u001b[43mpyxdf\u001b[49m\u001b[38;5;241;43m.\u001b[39;49m\u001b[43mload_xdf\u001b[49m\u001b[43m(\u001b[49m\u001b[43mfile_path\u001b[49m\u001b[43m)\u001b[49m\n\u001b[0;32m      3\u001b[0m \u001b[38;5;28;01mfor\u001b[39;00m i, stream \u001b[38;5;129;01min\u001b[39;00m \u001b[38;5;28menumerate\u001b[39m(data):\n\u001b[0;32m      5\u001b[0m     \u001b[38;5;28;01mif\u001b[39;00m stream[\u001b[38;5;124m'\u001b[39m\u001b[38;5;124minfo\u001b[39m\u001b[38;5;124m'\u001b[39m][\u001b[38;5;124m'\u001b[39m\u001b[38;5;124mname\u001b[39m\u001b[38;5;124m'\u001b[39m][\u001b[38;5;241m0\u001b[39m] \u001b[38;5;241m==\u001b[39m \u001b[38;5;124m'\u001b[39m\u001b[38;5;124mQ+\u001b[39m\u001b[38;5;124m'\u001b[39m: \u001b[38;5;66;03m# if the stream comes from mybraintech Q+ system\u001b[39;00m\n",
      "File \u001b[1;32m~\\AppData\\Local\\anaconda3\\envs\\IDA\\lib\\site-packages\\pyxdf\\pyxdf.py:231\u001b[0m, in \u001b[0;36mload_xdf\u001b[1;34m(filename, select_streams, on_chunk, synchronize_clocks, handle_clock_resets, dejitter_timestamps, jitter_break_threshold_seconds, jitter_break_threshold_samples, clock_reset_threshold_seconds, clock_reset_threshold_stds, clock_reset_threshold_offset_seconds, clock_reset_threshold_offset_stds, winsor_threshold, verbose)\u001b[0m\n\u001b[0;32m    228\u001b[0m \u001b[38;5;66;03m# XML content of the file header chunk\u001b[39;00m\n\u001b[0;32m    229\u001b[0m fileheader \u001b[38;5;241m=\u001b[39m \u001b[38;5;28;01mNone\u001b[39;00m\n\u001b[1;32m--> 231\u001b[0m \u001b[38;5;28;01mwith\u001b[39;00m \u001b[43mopen_xdf\u001b[49m\u001b[43m(\u001b[49m\u001b[43mfilename\u001b[49m\u001b[43m)\u001b[49m \u001b[38;5;28;01mas\u001b[39;00m f:\n\u001b[0;32m    232\u001b[0m     \u001b[38;5;66;03m# for each chunk\u001b[39;00m\n\u001b[0;32m    233\u001b[0m     \u001b[38;5;28;01mwhile\u001b[39;00m \u001b[38;5;28;01mTrue\u001b[39;00m:\n\u001b[0;32m    234\u001b[0m         \u001b[38;5;66;03m# noinspection PyBroadException\u001b[39;00m\n\u001b[0;32m    235\u001b[0m         \u001b[38;5;28;01mtry\u001b[39;00m:\n\u001b[0;32m    236\u001b[0m             \u001b[38;5;66;03m# read [NumLengthBytes], [Length]\u001b[39;00m\n",
      "File \u001b[1;32m~\\AppData\\Local\\anaconda3\\envs\\IDA\\lib\\site-packages\\pyxdf\\pyxdf.py:423\u001b[0m, in \u001b[0;36mopen_xdf\u001b[1;34m(file)\u001b[0m\n\u001b[0;32m    421\u001b[0m \u001b[38;5;66;03m# check absolute path after following symlinks\u001b[39;00m\n\u001b[0;32m    422\u001b[0m \u001b[38;5;28;01mif\u001b[39;00m \u001b[38;5;129;01mnot\u001b[39;00m filename\u001b[38;5;241m.\u001b[39mresolve()\u001b[38;5;241m.\u001b[39mexists():\n\u001b[1;32m--> 423\u001b[0m     \u001b[38;5;28;01mraise\u001b[39;00m \u001b[38;5;167;01mException\u001b[39;00m(\u001b[38;5;124m\"\u001b[39m\u001b[38;5;124mfile \u001b[39m\u001b[38;5;132;01m%s\u001b[39;00m\u001b[38;5;124m does not exist.\u001b[39m\u001b[38;5;124m\"\u001b[39m \u001b[38;5;241m%\u001b[39m filename)\n\u001b[0;32m    425\u001b[0m \u001b[38;5;28;01mif\u001b[39;00m filename\u001b[38;5;241m.\u001b[39msuffix \u001b[38;5;241m==\u001b[39m \u001b[38;5;124m\"\u001b[39m\u001b[38;5;124m.xdfz\u001b[39m\u001b[38;5;124m\"\u001b[39m \u001b[38;5;129;01mor\u001b[39;00m filename\u001b[38;5;241m.\u001b[39msuffixes \u001b[38;5;241m==\u001b[39m [\u001b[38;5;124m\"\u001b[39m\u001b[38;5;124m.xdf\u001b[39m\u001b[38;5;124m\"\u001b[39m, \u001b[38;5;124m\"\u001b[39m\u001b[38;5;124m.gz\u001b[39m\u001b[38;5;124m\"\u001b[39m]:\n\u001b[0;32m    426\u001b[0m     f \u001b[38;5;241m=\u001b[39m gzip\u001b[38;5;241m.\u001b[39mopen(\u001b[38;5;28mstr\u001b[39m(filename), \u001b[38;5;124m\"\u001b[39m\u001b[38;5;124mrb\u001b[39m\u001b[38;5;124m\"\u001b[39m)\n",
      "\u001b[1;31mException\u001b[0m: file c\\Users\\mfratice\\OneDrive - Institut Pasteur Paris\\roughxpmbt\\01_roughxpmbt_data\\05_roughxpmbt_labrecorder\\for_matthieu\\sub-DURJIL\\ses-20230517\\eeg\\sub-DURJIL_ses-20230517_task-Default_acq-RNET_run-001_eeg.xdf does not exist."
     ]
    }
   ],
   "source": [
    "data, header = pyxdf.load_xdf(file_path)\n",
    "\n",
    "for i, stream in enumerate(data):\n",
    "    \n",
    "    if stream['info']['name'][0] == 'Q+': # if the stream comes from mybraintech Q+ system\n",
    "        qplus_stream = stream\n",
    "    elif stream['info']['name'][0] == 'actiCHampMarkers-20110423': # if the stream comes from brainproducts actichamp system of IDA \n",
    "        actichampmarkers_stream = stream\n",
    "    elif stream['info']['name'][0] == 'actiCHamp-20110423': # if the stream comes from brainproducts actichamp system of IDA \n",
    "        actichamp_stream = stream\n",
    "    else:\n",
    "        print(\"stream source unrecognized\")\n",
    "\n",
    "# actichamp data in a mne raw data format\n",
    "actichamp_data = actichamp_stream[\"time_series\"].T\n",
    "actichamp_sfreq = float(actichamp_stream[\"info\"][\"nominal_srate\"][0])\n",
    "# actichamp_info_channels = actichamp_stream[\"info\"][\"desc\"][0][\"channels\"][0][\"channel\"]\n",
    "actichamp_channel_names = [channel[\"label\"][0] for channel in actichamp_stream[\"info\"][\"desc\"][0][\"channels\"][0][\"channel\"]]\n",
    "actichamp_channel_types = [channel[\"type\"][0] for channel in actichamp_stream[\"info\"][\"desc\"][0][\"channels\"][0][\"channel\"]]\n",
    "actichamp_channel_units = [channel[\"unit\"][0] for channel in actichamp_stream[\"info\"][\"desc\"][0][\"channels\"][0][\"channel\"]]\n",
    "actichamp_info = mne.create_info(ch_names=actichamp_channel_names, sfreq=actichamp_sfreq)#, ch_types=actichamp_channel_types, verbose=True)\n",
    "actichamp_raw = mne.io.RawArray(actichamp_data, actichamp_info)\n",
    "actichamp_raw.plot(block=True)\n",
    "\n",
    "# qplus data in a mne raw data format\n",
    "qplus_data = qplus_stream[\"time_series\"].T\n",
    "qplus_sfreq = float(qplus_stream[\"info\"][\"nominal_srate\"][0])\n",
    "# qplus_info_channels = qplus_stream[\"info\"][\"desc\"][0][\"channels\"][0][\"channel\"]\n",
    "qplus_channel_names = [channel[\"label\"][0] for channel in qplus_stream[\"info\"][\"desc\"][0][\"channels\"][0][\"channel\"]]\n",
    "qplus_channel_types = [channel[\"type\"][0] for channel in qplus_stream[\"info\"][\"desc\"][0][\"channels\"][0][\"channel\"]]\n",
    "qplus_channel_units = [channel[\"unit\"][0] for channel in qplus_stream[\"info\"][\"desc\"][0][\"channels\"][0][\"channel\"]]\n",
    "qplus_info = mne.create_info(ch_names=qplus_channel_names, sfreq=qplus_sfreq)#, ch_types=actichamp_channel_types, verbose=True)\n",
    "qplus_raw = mne.io.RawArray(qplus_data, qplus_info)\n",
    "qplus_raw.plot(block=True)\n",
    "\n",
    "\n",
    "\n",
    "acq = 'acticap'\n",
    "filename = f\"sub-{sub}_ses-{ses}_task-{task}_acq-{acq}_run-{run}_eeg.fif\"\n",
    "# save as .fif \n",
    "fname = os.path.join(results_path, filename)\n",
    "actichamp_raw.save(fname=fname, overwrite=True)\n",
    "\n",
    "acq = 'qplus'\n",
    "filename = f\"sub-{sub}_ses-{ses}_task-{task}_acq-{acq}_run-{run}_eeg.fif\"\n",
    "# save as .fif \n",
    "fname = os.path.join(results_path, filename)\n",
    "actichamp_raw.save(fname=fname, overwrite=True)\n",
    "\n",
    "\n",
    "\n",
    "# bids_path = BIDSPath(subject=sub,\n",
    "#              task=task,\n",
    "#              root=root_bids)\n",
    "    \n",
    "# write_raw_bids(actichamp_raw, bids_path, allow_preload=True, format='FIF')\n",
    "\n",
    "# write_raw_bids(qplus_raw, bids_path, allow_preload=True, format='FIF')#, overwrite=True)\n"
   ]
  },
  {
   "cell_type": "markdown",
   "id": "819573b8",
   "metadata": {},
   "source": [
    "300Hz sampling for Q+ and 1000 for Rnet, comparer SNR, sensibilite, comparer des ERPs entre les deux pour le fond du stage. Luc parle de l'aspect autiste, sortir historgramme autisme. ERPs par casque, comparer pour ERPs et ASSRs 40Hz. Benchmark et autisme, median split, plot score aversion en fonction groupe autisme et courbes individuelles, color selon les deux codes.Correlation score stress et aversion pour voir si ca arrive. (Aversion, autisme, EEG classique, Benchmark) Cz et voisins"
   ]
  },
  {
   "cell_type": "markdown",
   "id": "2e5e7a6a",
   "metadata": {},
   "source": [
    "correlation between stai t and QA"
   ]
  },
  {
   "cell_type": "code",
   "execution_count": null,
   "id": "6deb48eb",
   "metadata": {},
   "outputs": [],
   "source": []
  }
 ],
 "metadata": {
  "kernelspec": {
   "display_name": "Python 3 (ipykernel)",
   "language": "python",
   "name": "python3"
  },
  "language_info": {
   "codemirror_mode": {
    "name": "ipython",
    "version": 3
   },
   "file_extension": ".py",
   "mimetype": "text/x-python",
   "name": "python",
   "nbconvert_exporter": "python",
   "pygments_lexer": "ipython3",
   "version": "3.10.11"
  }
 },
 "nbformat": 4,
 "nbformat_minor": 5
}
