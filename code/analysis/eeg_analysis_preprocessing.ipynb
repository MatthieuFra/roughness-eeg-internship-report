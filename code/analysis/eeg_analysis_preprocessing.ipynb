{
 "cells": [
  {
   "cell_type": "markdown",
   "id": "d3cdc63b",
   "metadata": {},
   "source": [
    "# RoughXP Analysis - Preprocessing \n",
    "\n",
    "### Author : Matthieu Fraticelli, Emma Ducos - 2023\n",
    "\n",
    "This code is designed to analyze the data of the RoughXP experiment using EEG signals recorded from BrainProducts R-Net and MyBrainTech Q+\n"
   ]
  },
  {
   "cell_type": "markdown",
   "id": "bcacdece",
   "metadata": {},
   "source": [
    "----"
   ]
  },
  {
   "cell_type": "markdown",
   "id": "f6827985",
   "metadata": {},
   "source": [
    "*The present code is designed to perform some preprocesing on the data.*"
   ]
  },
  {
   "cell_type": "markdown",
   "id": "17ea8ba2",
   "metadata": {},
   "source": [
    "---"
   ]
  },
  {
   "cell_type": "markdown",
   "id": "db414ac9",
   "metadata": {},
   "source": [
    "### Import required librairies"
   ]
  },
  {
   "cell_type": "code",
   "execution_count": 1,
   "id": "9a2f242c",
   "metadata": {},
   "outputs": [],
   "source": [
    "#To import MNE\n",
    "import mne\n",
    "\n",
    "#Other librairies needed\n",
    "import matplotlib.pyplot as plt\n",
    "import numpy as np\n",
    "import os\n",
    "from mne.preprocessing import (ICA, corrmap, create_ecg_epochs,\n",
    "                               create_eog_epochs)"
   ]
  },
  {
   "cell_type": "code",
   "execution_count": 2,
   "id": "a6eeb519",
   "metadata": {
    "scrolled": true
   },
   "outputs": [
    {
     "name": "stdout",
     "output_type": "stream",
     "text": [
      "Platform             Windows-10-10.0.19045-SP0\n",
      "Python               3.10.11 | packaged by Anaconda, Inc. | (main, Apr 20 2023, 18:56:50) [MSC v.1916 64 bit (AMD64)]\n",
      "Executable           C:\\Users\\mfratice\\AppData\\Local\\anaconda3\\envs\\IDA\\python.exe\n",
      "CPU                  Intel64 Family 6 Model 154 Stepping 3, GenuineIntel (20 cores)\n",
      "Memory               31.7 GB\n",
      "\n",
      "Core\n",
      "├☑ mne               1.4.0\n",
      "├☑ numpy             1.23.5 (MKL 2021.4-Product with 14 threads)\n",
      "├☑ scipy             1.10.1\n",
      "├☑ matplotlib        3.5.3 (backend=module://matplotlib_inline.backend_inline)\n",
      "├☑ pooch             1.7.0\n",
      "└☑ jinja2            3.1.2\n",
      "\n",
      "Numerical (optional)\n",
      "├☑ sklearn           1.2.2\n",
      "├☑ numba             0.56.4\n",
      "├☑ nibabel           5.1.0\n",
      "├☑ nilearn           0.10.0\n",
      "├☑ dipy              1.6.0\n",
      "├☑ pandas            2.0.0\n",
      "└☐ unavailable       openmeeg, cupy\n",
      "\n",
      "Visualization (optional)\n",
      "├☑ pyvista           0.38.5 (OpenGL 4.5.0 - Build 31.0.101.3959 via Intel(R) Iris(R) Xe Graphics)\n",
      "├☑ pyvistaqt         0.0.0\n",
      "├☑ ipyvtklink        0.2.3\n",
      "├☑ vtk               9.0.3\n",
      "├☑ qtpy              2.3.1 (PyQt5=5.15.2)\n",
      "├☑ pyqtgraph         0.13.3\n",
      "├☑ mne-qt-browser    0.0.0\n",
      "└☐ unavailable       ipympl\n",
      "\n",
      "Ecosystem (optional)\n",
      "├☑ mne-bids          0.12\n",
      "└☐ unavailable       mne-nirs, mne-features, mne-connectivity, mne-icalabel, mne-bids-pipeline\n"
     ]
    }
   ],
   "source": [
    "#To check the system of MNE\n",
    "mne.sys_info()"
   ]
  },
  {
   "cell_type": "markdown",
   "id": "9a4930c1",
   "metadata": {},
   "source": [
    "---"
   ]
  },
  {
   "cell_type": "code",
   "execution_count": 4,
   "id": "7c1a167d",
   "metadata": {},
   "outputs": [
    {
     "name": "stdout",
     "output_type": "stream",
     "text": [
      "Opening raw data file C:/Users/mfratice/Documents/DATA/RESULTS/sub-DURJIL_ses-20230517_task-Default_acq-rnet_run-001_eeg.fif...\n",
      "Isotrak not found\n",
      "    Range : 0 ... 957506 =      0.000 ...   957.506 secs\n",
      "Ready.\n",
      "Reading 0 ... 957506  =      0.000 ...   957.506 secs...\n"
     ]
    }
   ],
   "source": [
    "PROJECT_PATH = 'C:/Users/mfratice/Documents/DATA' #C:/Users/mfratice/Documents/DATA/RESULTS\n",
    "SOURCE_DATA_PATH = 'C:/Users/mfratice/Documents/DATA/RESULTS'\n",
    "BIDS_ROOT_PATH = 'C:/Users/mfratice/Documents/DATA/RESULTS' \n",
    "#'C:/Users/mfratice/Documents/DATA/BIDS'\n",
    "RESULTS_PATH = 'C:/Users/mfratice/Documents/DATA/RESULTS_PREPROCESSING'\n",
    "\n",
    "\n",
    "# select data\n",
    "sub = \"DURJIL\"  # subject ID   2021062C003CB\n",
    "ses = '20230517'  # date of the recording\n",
    "task = 'roughxp'  # name of the task given in {\"roughxp\", \"roughxprating\", \"roughxppassive\"}\n",
    "acq = 'RNET'  # name of the device/cap used in {\"acticap\", \"rnet\", \"qplus\"}\n",
    "run = '001'\n",
    "modality = 'eeg'  # name of the data modality / BIDS suffix\n",
    "stim_channel = 'STIM'  # name of the auxiliary channel containing the auditory stimulus\n",
    "line_freq = 50.\n",
    "\n",
    "###############################################################\n",
    "# create a dictionnary to communicate easily between functions\n",
    "data = dict()\n",
    "data['sub'] = sub\n",
    "data['ses'] = ses\n",
    "data['task'] = task\n",
    "data['acq'] = acq\n",
    "data['run'] = run\n",
    "data['modality'] = modality\n",
    "data['project_path'] = PROJECT_PATH\n",
    "data['source_data_path'] = SOURCE_DATA_PATH\n",
    "data['bids_root_path'] = BIDS_ROOT_PATH\n",
    "data['line_freq'] = line_freq\n",
    "data['stim_channel'] = stim_channel\n",
    "data['results_path'] = RESULTS_PATH\n",
    "\n",
    "#  open data###############################################################\n",
    "\n",
    "# BIDS compliant fname\n",
    "fname_root = f\"sub-{data['sub']}_ses-{data['ses']}_task-{data['task']}_acq-{data['acq']}_{data['modality']}\"\n",
    "# BIDS compliant folder path\n",
    "#bids_path = os.path.join(data['bids_root_path'], f\"sub-{data['sub']}\", f\"ses-{data['ses']}\", f\"{data['modality']}\")\n",
    "\n",
    "# add the right extension\n",
    "fname = 'C:/Users/mfratice/Documents/DATA/RESULTS/sub-DURJIL_ses-20230517_task-Default_acq-rnet_run-001_eeg.fif'\n",
    "#OLD\n",
    "#fname = os.path.join(bids_path, fname_root + \".fif\")\n",
    "\n",
    "# open .fif data into MNE\n",
    "raw = mne.io.read_raw(fname, allow_maxshield=False, preload=True, on_split_missing='raise')"
   ]
  },
  {
   "cell_type": "code",
   "execution_count": 5,
   "id": "6deb48eb",
   "metadata": {},
   "outputs": [
    {
     "name": "stdout",
     "output_type": "stream",
     "text": [
      "Using qt as 2D backend.\n",
      "Channels marked as bad:\n",
      "none\n"
     ]
    },
    {
     "data": {
      "text/plain": [
       "<mne_qt_browser._pg_figure.MNEQtBrowser at 0x1a8db135c60>"
      ]
     },
     "execution_count": 5,
     "metadata": {},
     "output_type": "execute_result"
    }
   ],
   "source": [
    "raw.plot(block=True)"
   ]
  },
  {
   "cell_type": "markdown",
   "id": "730068c0",
   "metadata": {},
   "source": [
    "### preprocessing on raw data"
   ]
  },
  {
   "cell_type": "code",
   "execution_count": 6,
   "id": "dce2e61f",
   "metadata": {},
   "outputs": [
    {
     "name": "stdout",
     "output_type": "stream",
     "text": [
      "Filtering raw data in 1 contiguous segment\n",
      "Setting up band-stop filter\n",
      "\n",
      "FIR filter parameters\n",
      "---------------------\n",
      "Designing a one-pass, zero-phase, non-causal bandstop filter:\n",
      "- Windowed time-domain design (firwin) method\n",
      "- Hamming window with 0.0194 passband ripple and 53 dB stopband attenuation\n",
      "- Lower transition bandwidth: 0.50 Hz\n",
      "- Upper transition bandwidth: 0.50 Hz\n",
      "- Filter length: 6601 samples (6.601 s)\n",
      "\n"
     ]
    },
    {
     "name": "stderr",
     "output_type": "stream",
     "text": [
      "[Parallel(n_jobs=1)]: Using backend SequentialBackend with 1 concurrent workers.\n",
      "[Parallel(n_jobs=1)]: Done   1 out of   1 | elapsed:    0.0s remaining:    0.0s\n",
      "[Parallel(n_jobs=1)]: Done   2 out of   2 | elapsed:    0.0s remaining:    0.0s\n",
      "[Parallel(n_jobs=1)]: Done   3 out of   3 | elapsed:    0.0s remaining:    0.0s\n",
      "[Parallel(n_jobs=1)]: Done   4 out of   4 | elapsed:    0.0s remaining:    0.0s\n",
      "[Parallel(n_jobs=1)]: Done  36 out of  36 | elapsed:    1.0s finished\n"
     ]
    }
   ],
   "source": [
    "# filter line noise 50 Hz\n",
    "freqs_linenoise = (50, 100, 150, 200, 250, 300, 350, 400, 450)\n",
    "raw = raw.copy().notch_filter(freqs=freqs_linenoise, picks='all') #picks = 'eeg'"
   ]
  },
  {
   "cell_type": "code",
   "execution_count": 7,
   "id": "97c2f216",
   "metadata": {
    "scrolled": true
   },
   "outputs": [
    {
     "name": "stdout",
     "output_type": "stream",
     "text": [
      "No data channels found. The highpass and lowpass values in the measurement info will not be updated.\n",
      "Filtering raw data in 1 contiguous segment\n",
      "Setting up band-pass filter from 0.1 - 1e+02 Hz\n",
      "\n",
      "FIR filter parameters\n",
      "---------------------\n",
      "Designing a one-pass, zero-phase, non-causal bandpass filter:\n",
      "- Windowed time-domain design (firwin) method\n",
      "- Hamming window with 0.0194 passband ripple and 53 dB stopband attenuation\n",
      "- Lower passband edge: 0.10\n",
      "- Lower transition bandwidth: 0.10 Hz (-6 dB cutoff frequency: 0.05 Hz)\n",
      "- Upper passband edge: 100.00 Hz\n",
      "- Upper transition bandwidth: 25.00 Hz (-6 dB cutoff frequency: 112.50 Hz)\n",
      "- Filter length: 33001 samples (33.001 s)\n",
      "\n"
     ]
    },
    {
     "name": "stderr",
     "output_type": "stream",
     "text": [
      "[Parallel(n_jobs=1)]: Using backend SequentialBackend with 1 concurrent workers.\n",
      "[Parallel(n_jobs=1)]: Done   1 out of   1 | elapsed:    0.0s remaining:    0.0s\n",
      "[Parallel(n_jobs=1)]: Done   2 out of   2 | elapsed:    0.0s remaining:    0.0s\n",
      "[Parallel(n_jobs=1)]: Done   3 out of   3 | elapsed:    0.1s remaining:    0.0s\n",
      "[Parallel(n_jobs=1)]: Done   4 out of   4 | elapsed:    0.1s remaining:    0.0s\n",
      "[Parallel(n_jobs=1)]: Done  36 out of  36 | elapsed:    2.1s finished\n"
     ]
    }
   ],
   "source": [
    "# %% band pass filter (0.5 - 250 Hz)\n",
    "raw = raw.copy().filter(l_freq=0.1, h_freq=100, picks='all')"
   ]
  },
  {
   "cell_type": "code",
   "execution_count": 12,
   "id": "18be379b",
   "metadata": {},
   "outputs": [
    {
     "name": "stdout",
     "output_type": "stream",
     "text": [
      "Channels marked as bad:\n",
      "none\n"
     ]
    },
    {
     "data": {
      "text/plain": [
       "<mne_qt_browser._pg_figure.MNEQtBrowser at 0x1a8804fb910>"
      ]
     },
     "execution_count": 12,
     "metadata": {},
     "output_type": "execute_result"
    }
   ],
   "source": [
    "raw.plot(block=True)"
   ]
  },
  {
   "cell_type": "code",
   "execution_count": null,
   "id": "aa03262a",
   "metadata": {},
   "outputs": [],
   "source": [
    "# Set montage if needed\n",
    "# mne.channels.get_builtin_montages()\n",
    "# montage = mne.channels.make_standard_montage('standard_1020')\n",
    "# raw.set_montage(montage, verbose=False)"
   ]
  },
  {
   "cell_type": "code",
   "execution_count": null,
   "id": "bae244d4",
   "metadata": {},
   "outputs": [],
   "source": [
    "# ica eog\n",
    "# ica = ICA()\n",
    "# ica.fit(raw)"
   ]
  },
  {
   "cell_type": "code",
   "execution_count": null,
   "id": "be0c3e5d",
   "metadata": {},
   "outputs": [],
   "source": [
    "# ica.plot_sources(raw)"
   ]
  },
  {
   "cell_type": "code",
   "execution_count": null,
   "id": "0509f9f9",
   "metadata": {},
   "outputs": [],
   "source": [
    "# ica.exclude = []\n",
    "# find which ICs match the EOG pattern\n",
    "# eog_indices, eog_scores = ica.find_bads_eog(raw, ch_name='Fp1')\n",
    "# ica.exclude = eog_indices\n",
    "\n",
    "# barplot of ICA component \"EOG match\" scores\n",
    "# ica.plot_scores(eog_scores)\n",
    "\n",
    "# plot diagnostics\n",
    "# ica.plot_properties(raw, picks=eog_indices)\n",
    "\n",
    "# plot ICs applied to raw data, with EOG matches highlighted\n",
    "# ica.plot_sources(raw, show_scrollbars=False)\n",
    "\n",
    "# plot ICs applied to the averaged EOG epochs, with EOG matches highlighted\n",
    "# ica.plot_sources(eog_evoked)"
   ]
  },
  {
   "cell_type": "code",
   "execution_count": 23,
   "id": "3988e641",
   "metadata": {},
   "outputs": [],
   "source": [
    "events_track, _ = mne.events_from_annotations(raw, regexp='(Track)')\n",
    "events_track = events_track[:, 0]\n",
    "event_onsets_of_interest = []\n",
    "for index in range(0, len(events_track)-1):\n",
    "    if events_track[index + 1] - events_track[index] > 1000:\n",
    "        event_onsets_of_interest.append(events_track[index+1])"
   ]
  },
  {
   "cell_type": "code",
   "execution_count": 24,
   "id": "68b6aa3f",
   "metadata": {},
   "outputs": [
    {
     "data": {
      "text/plain": [
       "<matplotlib.collections.LineCollection at 0x1a88068a710>"
      ]
     },
     "execution_count": 24,
     "metadata": {},
     "output_type": "execute_result"
    },
    {
     "data": {
      "image/png": "[encoded data removed]",
      "text/plain": [
       "<Figure size 640x480 with 1 Axes>"
      ]
     },
     "metadata": {},
     "output_type": "display_data"
    }
   ],
   "source": [
    "fig, ax = plt.subplots()\n",
    "ax.vlines(events_track, ymax=1, ymin=0)\n",
    "ax.vlines(event_onsets_of_interest, ymin=0.5, ymax=1.5, color='k')"
   ]
  },
  {
   "cell_type": "code",
   "execution_count": null,
   "id": "e4f60136",
   "metadata": {},
   "outputs": [],
   "source": [
    "events_track, _ = mne.events_from_annotations(raw, regexp='(Track)')\n",
    "event_onsets = events_track[:, 0]\n",
    "event_onsets_of_interest = []\n",
    "for index in range(0, len(event_onsets)-1):\n",
    "    if event_onsets[index + 1] - event_onsets[index] > 1000:\n",
    "        event_onsets_of_interest.append(event_onsets[index+1])"
   ]
  },
  {
   "cell_type": "code",
   "execution_count": null,
   "id": "31f20e9c",
   "metadata": {},
   "outputs": [],
   "source": [
    "# TODO find the event_id associated with the Track stim: psychopy ? directly on the stim wave ?\n",
    "# mne.viz.plot_events(events=event_onsets_of_interest, sfreq=raw.info['sfreq'])"
   ]
  },
  {
   "cell_type": "markdown",
   "id": "e57cbf01",
   "metadata": {},
   "source": [
    "##### find events"
   ]
  },
  {
   "cell_type": "code",
   "execution_count": 28,
   "id": "57811910",
   "metadata": {},
   "outputs": [],
   "source": [
    "# mne.find_event does not work with brainvision data ?\n",
    "# events, event_id = mne.events_from_annotations(raw, regexp='(Stimulus)')\n",
    "events, event_id = mne.events_from_annotations(raw)\n",
    "events = events[np.isin(events[:, 0],event_onsets_of_interest)]"
   ]
  },
  {
   "cell_type": "markdown",
   "id": "afa44985",
   "metadata": {},
   "source": [
    "##### epochs"
   ]
  },
  {
   "cell_type": "code",
   "execution_count": 29,
   "id": "c7fc215f",
   "metadata": {},
   "outputs": [
    {
     "ename": "ValueError",
     "evalue": "zero-size array to reduction operation maximum which has no identity",
     "output_type": "error",
     "traceback": [
      "\u001b[1;31m---------------------------------------------------------------------------\u001b[0m",
      "\u001b[1;31mValueError\u001b[0m                                Traceback (most recent call last)",
      "Cell \u001b[1;32mIn[29], line 1\u001b[0m\n\u001b[1;32m----> 1\u001b[0m epochs \u001b[38;5;241m=\u001b[39m \u001b[43mmne\u001b[49m\u001b[38;5;241;43m.\u001b[39;49m\u001b[43mEpochs\u001b[49m\u001b[43m(\u001b[49m\u001b[43mraw\u001b[49m\u001b[43m,\u001b[49m\u001b[43m \u001b[49m\u001b[43mevents\u001b[49m\u001b[43m,\u001b[49m\u001b[43m \u001b[49m\u001b[43mtmin\u001b[49m\u001b[38;5;241;43m=\u001b[39;49m\u001b[38;5;241;43m-\u001b[39;49m\u001b[38;5;241;43m0.5\u001b[39;49m\u001b[43m,\u001b[49m\u001b[43m \u001b[49m\n\u001b[0;32m      2\u001b[0m \u001b[43m    \u001b[49m\u001b[43mtmax\u001b[49m\u001b[38;5;241;43m=\u001b[39;49m\u001b[38;5;241;43m1.5\u001b[39;49m\u001b[43m,\u001b[49m\u001b[43m \u001b[49m\u001b[43mbaseline\u001b[49m\u001b[38;5;241;43m=\u001b[39;49m\u001b[43m(\u001b[49m\u001b[38;5;241;43m-\u001b[39;49m\u001b[38;5;241;43m0.3\u001b[39;49m\u001b[43m,\u001b[49m\u001b[43m \u001b[49m\u001b[38;5;241;43m-\u001b[39;49m\u001b[38;5;241;43m0.1\u001b[39;49m\u001b[43m)\u001b[49m\u001b[43m,\u001b[49m\u001b[43m \u001b[49m\u001b[43mpreload\u001b[49m\u001b[38;5;241;43m=\u001b[39;49m\u001b[38;5;28;43;01mTrue\u001b[39;49;00m\u001b[43m)\u001b[49m\n",
      "File \u001b[1;32m<decorator-gen-288>:12\u001b[0m, in \u001b[0;36m__init__\u001b[1;34m(self, raw, events, event_id, tmin, tmax, baseline, picks, preload, reject, flat, proj, decim, reject_tmin, reject_tmax, detrend, on_missing, reject_by_annotation, metadata, event_repeated, verbose)\u001b[0m\n",
      "File \u001b[1;32m~\\AppData\\Local\\anaconda3\\envs\\IDA\\lib\\site-packages\\mne\\epochs.py:3084\u001b[0m, in \u001b[0;36mEpochs.__init__\u001b[1;34m(self, raw, events, event_id, tmin, tmax, baseline, picks, preload, reject, flat, proj, decim, reject_tmin, reject_tmax, detrend, on_missing, reject_by_annotation, metadata, event_repeated, verbose)\u001b[0m\n\u001b[0;32m   3081\u001b[0m raw_sfreq \u001b[38;5;241m=\u001b[39m raw\u001b[38;5;241m.\u001b[39minfo[\u001b[38;5;124m\"\u001b[39m\u001b[38;5;124msfreq\u001b[39m\u001b[38;5;124m\"\u001b[39m]\n\u001b[0;32m   3083\u001b[0m \u001b[38;5;66;03m# call BaseEpochs constructor\u001b[39;00m\n\u001b[1;32m-> 3084\u001b[0m \u001b[38;5;28;43msuper\u001b[39;49m\u001b[43m(\u001b[49m\u001b[43mEpochs\u001b[49m\u001b[43m,\u001b[49m\u001b[43m \u001b[49m\u001b[38;5;28;43mself\u001b[39;49m\u001b[43m)\u001b[49m\u001b[38;5;241;43m.\u001b[39;49m\u001b[38;5;21;43m__init__\u001b[39;49m\u001b[43m(\u001b[49m\n\u001b[0;32m   3085\u001b[0m \u001b[43m    \u001b[49m\u001b[43minfo\u001b[49m\u001b[43m,\u001b[49m\n\u001b[0;32m   3086\u001b[0m \u001b[43m    \u001b[49m\u001b[38;5;28;43;01mNone\u001b[39;49;00m\u001b[43m,\u001b[49m\n\u001b[0;32m   3087\u001b[0m \u001b[43m    \u001b[49m\u001b[43mevents\u001b[49m\u001b[43m,\u001b[49m\n\u001b[0;32m   3088\u001b[0m \u001b[43m    \u001b[49m\u001b[43mevent_id\u001b[49m\u001b[43m,\u001b[49m\n\u001b[0;32m   3089\u001b[0m \u001b[43m    \u001b[49m\u001b[43mtmin\u001b[49m\u001b[43m,\u001b[49m\n\u001b[0;32m   3090\u001b[0m \u001b[43m    \u001b[49m\u001b[43mtmax\u001b[49m\u001b[43m,\u001b[49m\n\u001b[0;32m   3091\u001b[0m \u001b[43m    \u001b[49m\u001b[43mmetadata\u001b[49m\u001b[38;5;241;43m=\u001b[39;49m\u001b[43mmetadata\u001b[49m\u001b[43m,\u001b[49m\n\u001b[0;32m   3092\u001b[0m \u001b[43m    \u001b[49m\u001b[43mbaseline\u001b[49m\u001b[38;5;241;43m=\u001b[39;49m\u001b[43mbaseline\u001b[49m\u001b[43m,\u001b[49m\n\u001b[0;32m   3093\u001b[0m \u001b[43m    \u001b[49m\u001b[43mraw\u001b[49m\u001b[38;5;241;43m=\u001b[39;49m\u001b[43mraw\u001b[49m\u001b[43m,\u001b[49m\n\u001b[0;32m   3094\u001b[0m \u001b[43m    \u001b[49m\u001b[43mpicks\u001b[49m\u001b[38;5;241;43m=\u001b[39;49m\u001b[43mpicks\u001b[49m\u001b[43m,\u001b[49m\n\u001b[0;32m   3095\u001b[0m \u001b[43m    \u001b[49m\u001b[43mreject\u001b[49m\u001b[38;5;241;43m=\u001b[39;49m\u001b[43mreject\u001b[49m\u001b[43m,\u001b[49m\n\u001b[0;32m   3096\u001b[0m \u001b[43m    \u001b[49m\u001b[43mflat\u001b[49m\u001b[38;5;241;43m=\u001b[39;49m\u001b[43mflat\u001b[49m\u001b[43m,\u001b[49m\n\u001b[0;32m   3097\u001b[0m \u001b[43m    \u001b[49m\u001b[43mdecim\u001b[49m\u001b[38;5;241;43m=\u001b[39;49m\u001b[43mdecim\u001b[49m\u001b[43m,\u001b[49m\n\u001b[0;32m   3098\u001b[0m \u001b[43m    \u001b[49m\u001b[43mreject_tmin\u001b[49m\u001b[38;5;241;43m=\u001b[39;49m\u001b[43mreject_tmin\u001b[49m\u001b[43m,\u001b[49m\n\u001b[0;32m   3099\u001b[0m \u001b[43m    \u001b[49m\u001b[43mreject_tmax\u001b[49m\u001b[38;5;241;43m=\u001b[39;49m\u001b[43mreject_tmax\u001b[49m\u001b[43m,\u001b[49m\n\u001b[0;32m   3100\u001b[0m \u001b[43m    \u001b[49m\u001b[43mdetrend\u001b[49m\u001b[38;5;241;43m=\u001b[39;49m\u001b[43mdetrend\u001b[49m\u001b[43m,\u001b[49m\n\u001b[0;32m   3101\u001b[0m \u001b[43m    \u001b[49m\u001b[43mproj\u001b[49m\u001b[38;5;241;43m=\u001b[39;49m\u001b[43mproj\u001b[49m\u001b[43m,\u001b[49m\n\u001b[0;32m   3102\u001b[0m \u001b[43m    \u001b[49m\u001b[43mon_missing\u001b[49m\u001b[38;5;241;43m=\u001b[39;49m\u001b[43mon_missing\u001b[49m\u001b[43m,\u001b[49m\n\u001b[0;32m   3103\u001b[0m \u001b[43m    \u001b[49m\u001b[43mpreload_at_end\u001b[49m\u001b[38;5;241;43m=\u001b[39;49m\u001b[43mpreload\u001b[49m\u001b[43m,\u001b[49m\n\u001b[0;32m   3104\u001b[0m \u001b[43m    \u001b[49m\u001b[43mevent_repeated\u001b[49m\u001b[38;5;241;43m=\u001b[39;49m\u001b[43mevent_repeated\u001b[49m\u001b[43m,\u001b[49m\n\u001b[0;32m   3105\u001b[0m \u001b[43m    \u001b[49m\u001b[43mverbose\u001b[49m\u001b[38;5;241;43m=\u001b[39;49m\u001b[43mverbose\u001b[49m\u001b[43m,\u001b[49m\n\u001b[0;32m   3106\u001b[0m \u001b[43m    \u001b[49m\u001b[43mraw_sfreq\u001b[49m\u001b[38;5;241;43m=\u001b[39;49m\u001b[43mraw_sfreq\u001b[49m\u001b[43m,\u001b[49m\n\u001b[0;32m   3107\u001b[0m \u001b[43m    \u001b[49m\u001b[43mannotations\u001b[49m\u001b[38;5;241;43m=\u001b[39;49m\u001b[43mraw\u001b[49m\u001b[38;5;241;43m.\u001b[39;49m\u001b[43mannotations\u001b[49m\u001b[43m,\u001b[49m\n\u001b[0;32m   3108\u001b[0m \u001b[43m\u001b[49m\u001b[43m)\u001b[49m\n",
      "File \u001b[1;32m<decorator-gen-274>:12\u001b[0m, in \u001b[0;36m__init__\u001b[1;34m(self, info, data, events, event_id, tmin, tmax, baseline, raw, picks, reject, flat, decim, reject_tmin, reject_tmax, detrend, proj, on_missing, preload_at_end, selection, drop_log, filename, metadata, event_repeated, raw_sfreq, annotations, verbose)\u001b[0m\n",
      "File \u001b[1;32m~\\AppData\\Local\\anaconda3\\envs\\IDA\\lib\\site-packages\\mne\\epochs.py:482\u001b[0m, in \u001b[0;36mBaseEpochs.__init__\u001b[1;34m(self, info, data, events, event_id, tmin, tmax, baseline, raw, picks, reject, flat, decim, reject_tmin, reject_tmax, detrend, proj, on_missing, preload_at_end, selection, drop_log, filename, metadata, event_repeated, raw_sfreq, annotations, verbose)\u001b[0m\n\u001b[0;32m    480\u001b[0m \u001b[38;5;28;01mif\u001b[39;00m events \u001b[38;5;129;01mis\u001b[39;00m \u001b[38;5;129;01mnot\u001b[39;00m \u001b[38;5;28;01mNone\u001b[39;00m:  \u001b[38;5;66;03m# RtEpochs can have events=None\u001b[39;00m\n\u001b[0;32m    481\u001b[0m     events \u001b[38;5;241m=\u001b[39m _ensure_events(events)\n\u001b[1;32m--> 482\u001b[0m     events_max \u001b[38;5;241m=\u001b[39m \u001b[43mevents\u001b[49m\u001b[38;5;241;43m.\u001b[39;49m\u001b[43mmax\u001b[49m\u001b[43m(\u001b[49m\u001b[43m)\u001b[49m\n\u001b[0;32m    483\u001b[0m     \u001b[38;5;28;01mif\u001b[39;00m events_max \u001b[38;5;241m>\u001b[39m INT32_MAX:\n\u001b[0;32m    484\u001b[0m         \u001b[38;5;28;01mraise\u001b[39;00m \u001b[38;5;167;01mValueError\u001b[39;00m(\n\u001b[0;32m    485\u001b[0m             \u001b[38;5;124mf\u001b[39m\u001b[38;5;124m\"\u001b[39m\u001b[38;5;124mevents array values must not exceed \u001b[39m\u001b[38;5;132;01m{\u001b[39;00mINT32_MAX\u001b[38;5;132;01m}\u001b[39;00m\u001b[38;5;124m, \u001b[39m\u001b[38;5;124m\"\u001b[39m\n\u001b[0;32m    486\u001b[0m             \u001b[38;5;124mf\u001b[39m\u001b[38;5;124m\"\u001b[39m\u001b[38;5;124mgot \u001b[39m\u001b[38;5;132;01m{\u001b[39;00mevents_max\u001b[38;5;132;01m}\u001b[39;00m\u001b[38;5;124m\"\u001b[39m\n\u001b[0;32m    487\u001b[0m         )\n",
      "File \u001b[1;32m~\\AppData\\Local\\anaconda3\\envs\\IDA\\lib\\site-packages\\numpy\\core\\_methods.py:40\u001b[0m, in \u001b[0;36m_amax\u001b[1;34m(a, axis, out, keepdims, initial, where)\u001b[0m\n\u001b[0;32m     38\u001b[0m \u001b[38;5;28;01mdef\u001b[39;00m \u001b[38;5;21m_amax\u001b[39m(a, axis\u001b[38;5;241m=\u001b[39m\u001b[38;5;28;01mNone\u001b[39;00m, out\u001b[38;5;241m=\u001b[39m\u001b[38;5;28;01mNone\u001b[39;00m, keepdims\u001b[38;5;241m=\u001b[39m\u001b[38;5;28;01mFalse\u001b[39;00m,\n\u001b[0;32m     39\u001b[0m           initial\u001b[38;5;241m=\u001b[39m_NoValue, where\u001b[38;5;241m=\u001b[39m\u001b[38;5;28;01mTrue\u001b[39;00m):\n\u001b[1;32m---> 40\u001b[0m     \u001b[38;5;28;01mreturn\u001b[39;00m \u001b[43mumr_maximum\u001b[49m\u001b[43m(\u001b[49m\u001b[43ma\u001b[49m\u001b[43m,\u001b[49m\u001b[43m \u001b[49m\u001b[43maxis\u001b[49m\u001b[43m,\u001b[49m\u001b[43m \u001b[49m\u001b[38;5;28;43;01mNone\u001b[39;49;00m\u001b[43m,\u001b[49m\u001b[43m \u001b[49m\u001b[43mout\u001b[49m\u001b[43m,\u001b[49m\u001b[43m \u001b[49m\u001b[43mkeepdims\u001b[49m\u001b[43m,\u001b[49m\u001b[43m \u001b[49m\u001b[43minitial\u001b[49m\u001b[43m,\u001b[49m\u001b[43m \u001b[49m\u001b[43mwhere\u001b[49m\u001b[43m)\u001b[49m\n",
      "\u001b[1;31mValueError\u001b[0m: zero-size array to reduction operation maximum which has no identity"
     ]
    }
   ],
   "source": [
    "epochs = mne.Epochs(raw, events, tmin=-0.5, \n",
    "    tmax=1.5, baseline=(-0.3, -0.1), preload=True)"
   ]
  },
  {
   "cell_type": "code",
   "execution_count": null,
   "id": "e252a469",
   "metadata": {},
   "outputs": [],
   "source": [
    "# tentative preprocessing epoch data\n",
    "# epochs.set_montage(montage, verbose=False)"
   ]
  },
  {
   "cell_type": "markdown",
   "id": "ed749ad5",
   "metadata": {},
   "source": [
    "##### drop channels"
   ]
  },
  {
   "cell_type": "code",
   "execution_count": null,
   "id": "a499f0dc",
   "metadata": {},
   "outputs": [],
   "source": [
    "ch_names_to_drop = ['Fp1', 'Fp2', 'F9', 'F10']\n",
    "epochs.drop_channels(ch_names=ch_names_to_drop)"
   ]
  },
  {
   "cell_type": "markdown",
   "id": "e793c461",
   "metadata": {},
   "source": [
    "##### look at the raw data"
   ]
  },
  {
   "cell_type": "code",
   "execution_count": null,
   "id": "977a4343",
   "metadata": {},
   "outputs": [],
   "source": [
    "raw.compute_psd().plot()"
   ]
  },
  {
   "cell_type": "code",
   "execution_count": null,
   "id": "1e9fc6ce",
   "metadata": {},
   "outputs": [],
   "source": [
    "raw.compute_psd().plot(average=True)"
   ]
  },
  {
   "cell_type": "code",
   "execution_count": null,
   "id": "247543e9",
   "metadata": {},
   "outputs": [],
   "source": [
    "mne.viz.plot_events(events=events, event_id=event_id, sfreq=raw.info['sfreq'])"
   ]
  },
  {
   "cell_type": "code",
   "execution_count": null,
   "id": "12a33ec1",
   "metadata": {},
   "outputs": [],
   "source": [
    "epochs.plot(block=True)"
   ]
  },
  {
   "cell_type": "code",
   "execution_count": null,
   "id": "e53875c0",
   "metadata": {},
   "outputs": [],
   "source": [
    "mne.viz.plot_epochs(epochs)"
   ]
  },
  {
   "cell_type": "code",
   "execution_count": null,
   "id": "60b74b7b",
   "metadata": {},
   "outputs": [],
   "source": [
    "epochs.compute_psd().plot()"
   ]
  },
  {
   "cell_type": "code",
   "execution_count": null,
   "id": "199e89a6",
   "metadata": {},
   "outputs": [],
   "source": [
    "epochs.average().plot(gfp=True)"
   ]
  },
  {
   "cell_type": "code",
   "execution_count": null,
   "id": "3360ba92",
   "metadata": {},
   "outputs": [],
   "source": [
    "epochs.average().plot()"
   ]
  },
  {
   "cell_type": "markdown",
   "id": "8eb574c9",
   "metadata": {},
   "source": [
    "##### BIDS"
   ]
  },
  {
   "cell_type": "code",
   "execution_count": null,
   "id": "90661547",
   "metadata": {},
   "outputs": [],
   "source": [
    "# create a BIDS compliant filename\n",
    "filename = f\"sub-{data['sub']}_ses-{data['ses']}_task-{data['task']}_acq-{data['acq']}_epoch.fif\"\n",
    "# create a BIDS compliant folder structure\n",
    "save_path = os.path.join(data['results_path'], f\"sub-{data['sub']}\", f\"ses-{data['ses']}\", f\"{data['modality']}\")\n",
    "if not os.path.exists(save_path):\n",
    "    os.makedirs(save_path)\n",
    "# save as .fif in a BIDS format\n",
    "raw.save(fname=os.path.join(save_path, filename), overwrite=True)"
   ]
  }
 ],
 "metadata": {
  "kernelspec": {
   "display_name": "Python 3 (ipykernel)",
   "language": "python",
   "name": "python3"
  },
  "language_info": {
   "codemirror_mode": {
    "name": "ipython",
    "version": 3
   },
   "file_extension": ".py",
   "mimetype": "text/x-python",
   "name": "python",
   "nbconvert_exporter": "python",
   "pygments_lexer": "ipython3",
   "version": "3.10.11"
  }
 },
 "nbformat": 4,
 "nbformat_minor": 5
}
